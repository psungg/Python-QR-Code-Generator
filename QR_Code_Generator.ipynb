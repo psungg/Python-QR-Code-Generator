{
 "cells": [
  {
   "cell_type": "markdown",
   "id": "7861da79",
   "metadata": {},
   "source": [
    "# pip install qrcode"
   ]
  },
  {
   "cell_type": "code",
   "execution_count": 3,
   "id": "4ecfc754",
   "metadata": {},
   "outputs": [
    {
     "name": "stdout",
     "output_type": "stream",
     "text": [
      "Collecting qrcode\n",
      "  Downloading qrcode-7.4.2-py3-none-any.whl (46 kB)\n",
      "     ---------------------------------------- 0.0/46.2 kB ? eta -:--:--\n",
      "     ---------------------------------------- 46.2/46.2 kB 2.2 MB/s eta 0:00:00\n",
      "Requirement already satisfied: typing-extensions in c:\\users\\psungg\\anaconda3\\lib\\site-packages (from qrcode) (4.6.3)\n",
      "Collecting pypng (from qrcode)\n",
      "  Downloading pypng-0.20220715.0-py3-none-any.whl (58 kB)\n",
      "     ---------------------------------------- 0.0/58.1 kB ? eta -:--:--\n",
      "     ---------------------------------------- 58.1/58.1 kB ? eta 0:00:00\n",
      "Requirement already satisfied: colorama in c:\\users\\psungg\\anaconda3\\lib\\site-packages (from qrcode) (0.4.6)\n",
      "Installing collected packages: pypng, qrcode\n",
      "Successfully installed pypng-0.20220715.0 qrcode-7.4.2\n",
      "Note: you may need to restart the kernel to use updated packages.\n"
     ]
    }
   ],
   "source": [
    "pip install qrcode"
   ]
  },
  {
   "cell_type": "markdown",
   "id": "7fd81819",
   "metadata": {},
   "source": [
    "1. Set/get the link for generating QR code\n",
    "2. Make a QR code from the link\n",
    "3. Save QR code as image file"
   ]
  },
  {
   "cell_type": "markdown",
   "id": "5b1815c2",
   "metadata": {},
   "source": [
    "Link: https://1drv.ms/f/s!AlzwURrv0oH2hNdgjNdAghiayuF3DQ?e=KJQUXA"
   ]
  },
  {
   "cell_type": "code",
   "execution_count": 4,
   "id": "8eeaf891",
   "metadata": {},
   "outputs": [
    {
     "name": "stdout",
     "output_type": "stream",
     "text": [
      "Done\n"
     ]
    }
   ],
   "source": [
    "import qrcode\n",
    "\n",
    "inputLink = \"https://1drv.ms/f/s!AlzwURrv0oH2hNdgjNdAghiayuF3DQ?e=KJQUXA\"\n",
    "qr = qrcode.QRCode(version = 1, box_size = 10, border = 2)\n",
    "qr.add_data(inputLink)\n",
    "qr.make(fit = True)\n",
    "img = qr.make_image(fill_color = \"black\", back_color = \"white\")\n",
    "\n",
    "img.save(\"TkinterPolice.png\")\n",
    "print(\"Done\")"
   ]
  },
  {
   "cell_type": "code",
   "execution_count": 11,
   "id": "077d8e09",
   "metadata": {},
   "outputs": [
    {
     "name": "stdout",
     "output_type": "stream",
     "text": [
      "Enter link: https://learn.futureskill.co/learning/watch/152\n",
      "Done!\n"
     ]
    }
   ],
   "source": [
    "import qrcode\n",
    "\n",
    "inputLink = input(\"Enter link: \")\n",
    "qr = qrcode.QRCode(version = 1, box_size = 10, border = 2)\n",
    "qr.add_data(inputLink)\n",
    "qr.make(fit = True)\n",
    "img = qr.make_image(fill_color = \"black\", back_color = \"white\")\n",
    "img.save(\"QR.png\")\n",
    "\n",
    "print(\"Done!\")"
   ]
  },
  {
   "cell_type": "code",
   "execution_count": null,
   "id": "3b84ebb0",
   "metadata": {},
   "outputs": [],
   "source": []
  }
 ],
 "metadata": {
  "kernelspec": {
   "display_name": "Python 3 (ipykernel)",
   "language": "python",
   "name": "python3"
  },
  "language_info": {
   "codemirror_mode": {
    "name": "ipython",
    "version": 3
   },
   "file_extension": ".py",
   "mimetype": "text/x-python",
   "name": "python",
   "nbconvert_exporter": "python",
   "pygments_lexer": "ipython3",
   "version": "3.11.3"
  }
 },
 "nbformat": 4,
 "nbformat_minor": 5
}
